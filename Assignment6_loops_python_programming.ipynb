{
 "cells": [
  {
   "cell_type": "markdown",
   "id": "fef473b5-64fe-4be2-aded-7ee628c88c55",
   "metadata": {},
   "source": [
    "# Loop Assignment"
   ]
  },
  {
   "cell_type": "markdown",
   "id": "f5ad0b9b-548a-491a-b9e7-b48a44e333a4",
   "metadata": {},
   "source": [
    "### 1. Write a Python program to print the numbers from 1 to 10 using a for loop. "
   ]
  },
  {
   "cell_type": "code",
   "execution_count": 1,
   "id": "9054bc15-7d93-4198-8446-d3054303dbea",
   "metadata": {},
   "outputs": [
    {
     "name": "stdout",
     "output_type": "stream",
     "text": [
      "1\n",
      "2\n",
      "3\n",
      "4\n",
      "5\n",
      "6\n",
      "7\n",
      "8\n",
      "9\n",
      "10\n"
     ]
    }
   ],
   "source": [
    "for a in range(10):\n",
    "    print(a+1)"
   ]
  },
  {
   "cell_type": "markdown",
   "id": "ad457df8-26ae-4604-9af7-277a837fa3a3",
   "metadata": {},
   "source": [
    "### 2. Write a Python program to print the numbers from 20 to 1 using a while loop."
   ]
  },
  {
   "cell_type": "code",
   "execution_count": 3,
   "id": "aafe2a10-0047-4661-b862-87fd1e155b05",
   "metadata": {},
   "outputs": [
    {
     "name": "stdout",
     "output_type": "stream",
     "text": [
      "20\n",
      "19\n",
      "18\n",
      "17\n",
      "16\n",
      "15\n",
      "14\n",
      "13\n",
      "12\n",
      "11\n",
      "10\n",
      "9\n",
      "8\n",
      "7\n",
      "6\n",
      "5\n",
      "4\n",
      "3\n",
      "2\n",
      "1\n"
     ]
    }
   ],
   "source": [
    "count = 20\n",
    "while count > 0:\n",
    "    print(count)\n",
    "    count -= 1"
   ]
  },
  {
   "cell_type": "markdown",
   "id": "c2034922-21ff-4b88-8632-e57710f7ab6d",
   "metadata": {},
   "source": [
    "### 3. Write a program to print even numbers from 1 to 10."
   ]
  },
  {
   "cell_type": "code",
   "execution_count": 4,
   "id": "90e2515c-81fb-41c2-ab1e-d200ae442960",
   "metadata": {},
   "outputs": [
    {
     "name": "stdout",
     "output_type": "stream",
     "text": [
      "2\n",
      "4\n",
      "6\n",
      "8\n",
      "10\n",
      "12\n",
      "14\n",
      "16\n",
      "18\n",
      "20\n",
      "22\n",
      "24\n",
      "26\n",
      "28\n",
      "30\n",
      "32\n",
      "34\n",
      "36\n",
      "38\n",
      "40\n",
      "42\n",
      "44\n",
      "46\n",
      "48\n",
      "50\n",
      "52\n",
      "54\n",
      "56\n",
      "58\n",
      "60\n",
      "62\n",
      "64\n",
      "66\n",
      "68\n",
      "70\n",
      "72\n",
      "74\n",
      "76\n",
      "78\n",
      "80\n",
      "82\n",
      "84\n",
      "86\n",
      "88\n",
      "90\n",
      "92\n",
      "94\n",
      "96\n",
      "98\n",
      "100\n"
     ]
    }
   ],
   "source": [
    "for i in range(2,101,2):\n",
    "    print(i)"
   ]
  },
  {
   "cell_type": "markdown",
   "id": "28ae0469-2b88-4044-972e-a381e7ab8a62",
   "metadata": {},
   "source": [
    "### 4. Write a program that prompts the user to enter a number n and prints all the number from 1 to n."
   ]
  },
  {
   "cell_type": "code",
   "execution_count": 7,
   "id": "58604bf3-9a4b-48cf-9155-f7782f8d13be",
   "metadata": {},
   "outputs": [
    {
     "name": "stdin",
     "output_type": "stream",
     "text": [
      "Enter a number 7\n"
     ]
    },
    {
     "name": "stdout",
     "output_type": "stream",
     "text": [
      "1\n",
      "2\n",
      "3\n",
      "4\n",
      "5\n",
      "6\n",
      "7\n"
     ]
    }
   ],
   "source": [
    "n = int(input(\"Enter a number\"))\n",
    "for i in range (1,n+1):\n",
    "    print(i)"
   ]
  },
  {
   "cell_type": "markdown",
   "id": "8a96356b-0e8d-4dcf-9650-35fb8fc1631c",
   "metadata": {},
   "source": [
    "### 5. Write a program that prompts the user to enter a number n, and then prints all the odd number between 1 to n.."
   ]
  },
  {
   "cell_type": "code",
   "execution_count": 8,
   "id": "108f51b0-f7a8-42be-8736-b175bcf4c989",
   "metadata": {},
   "outputs": [
    {
     "name": "stdin",
     "output_type": "stream",
     "text": [
      "Enter a number 7\n"
     ]
    },
    {
     "name": "stdout",
     "output_type": "stream",
     "text": [
      "1\n",
      "3\n",
      "5\n",
      "7\n"
     ]
    }
   ],
   "source": [
    "n = int(input(\"Enter a number\"))\n",
    "for i in range (1,n+1,2):\n",
    "    print(i)"
   ]
  },
  {
   "cell_type": "markdown",
   "id": "a887c4b5-8937-442b-a781-7f746607b467",
   "metadata": {},
   "source": [
    "### 6. Write a program that prints 'Happy Birthday!' five times on screen. "
   ]
  },
  {
   "cell_type": "code",
   "execution_count": 10,
   "id": "99c91c49-b596-4bbb-86d4-30e7329b5bcf",
   "metadata": {},
   "outputs": [
    {
     "name": "stdout",
     "output_type": "stream",
     "text": [
      "1 Happy Birthday!\n",
      "2 Happy Birthday!\n",
      "3 Happy Birthday!\n",
      "4 Happy Birthday!\n",
      "5 Happy Birthday!\n"
     ]
    }
   ],
   "source": [
    "for i in range(5):\n",
    "    print(i+1,\"Happy Birthday!\")"
   ]
  },
  {
   "cell_type": "markdown",
   "id": "94d052ac-7a94-43a9-b0d5-216fd9512403",
   "metadata": {},
   "source": [
    "### 7. Write a program that takes a number n as input from the user and generates the first n terms of the series formed by squaring the natural numbers. "
   ]
  },
  {
   "cell_type": "code",
   "execution_count": 14,
   "id": "7f4b0e53-a919-4ff2-b29d-7948b8a4a7cf",
   "metadata": {},
   "outputs": [
    {
     "name": "stdin",
     "output_type": "stream",
     "text": [
      "Enter a number 5\n"
     ]
    },
    {
     "name": "stdout",
     "output_type": "stream",
     "text": [
      "1\n",
      "4\n",
      "9\n",
      "16\n",
      "25\n"
     ]
    }
   ],
   "source": [
    "n = int(input(\"Enter a number\"))\n",
    "for i in range (1,n+1):\n",
    "    print(i*i)"
   ]
  },
  {
   "cell_type": "markdown",
   "id": "54041572-9244-4420-bc32-20b018eb4911",
   "metadata": {},
   "source": [
    "### 8. Write a program that prompts the user to input a number and prints its multiplication table\r"
   ]
  },
  {
   "cell_type": "code",
   "execution_count": 16,
   "id": "9cf6ec33-e91e-458e-8ab8-886da569fc48",
   "metadata": {},
   "outputs": [
    {
     "name": "stdin",
     "output_type": "stream",
     "text": [
      "Enter a number 4\n"
     ]
    },
    {
     "name": "stdout",
     "output_type": "stream",
     "text": [
      "4 * 1 = 4\n",
      "4 * 2 = 8\n",
      "4 * 3 = 12\n",
      "4 * 4 = 16\n",
      "4 * 5 = 20\n",
      "4 * 6 = 24\n",
      "4 * 7 = 28\n",
      "4 * 8 = 32\n",
      "4 * 9 = 36\n",
      "4 * 10 = 40\n"
     ]
    }
   ],
   "source": [
    "n = int(input(\"Enter a number\"))\n",
    "for i in range (1,11):\n",
    "    print(f\"{n} * {i} = {n * i}\")"
   ]
  },
  {
   "cell_type": "markdown",
   "id": "995a14ec-357c-404d-8f1d-10e6822cd613",
   "metadata": {},
   "source": [
    "### 9. Write a Python program to print the first 8 terms of an arithmetic progression starting with 3 and having a common difference of 4."
   ]
  },
  {
   "cell_type": "code",
   "execution_count": 18,
   "id": "f5eadbff-0b09-47f7-afe4-c04251f18bf6",
   "metadata": {},
   "outputs": [
    {
     "name": "stdout",
     "output_type": "stream",
     "text": [
      "3,7,11,15,19,23,27,31,"
     ]
    }
   ],
   "source": [
    "a = 3\n",
    "d= 4\n",
    "n =8\n",
    "for i in range(1,n+1):\n",
    "    print( a+(i-1)*d , end=\",\")"
   ]
  },
  {
   "cell_type": "markdown",
   "id": "ec5b7095-0399-49d1-bdb5-5628c65e10f8",
   "metadata": {},
   "source": [
    "### 10. Write a Python program to print the first 6 terms of a geometric sequence starting with 2 and having a common ratio of 3."
   ]
  },
  {
   "cell_type": "code",
   "execution_count": 19,
   "id": "87e85b5c-94b6-461b-bde3-c22081123827",
   "metadata": {},
   "outputs": [
    {
     "name": "stdout",
     "output_type": "stream",
     "text": [
      "2\n",
      "6\n",
      "18\n",
      "54\n",
      "162\n",
      "486\n"
     ]
    }
   ],
   "source": [
    "a = 2\n",
    "r =3\n",
    "n=6\n",
    "for i in range(1,n+1):\n",
    "    print(a * (r)**(i-1))"
   ]
  },
  {
   "cell_type": "markdown",
   "id": "ca1d64f4-0960-4ad2-a91c-e0cc01084e9d",
   "metadata": {},
   "source": [
    "### 11. Write a program that asks the user for a positive integer value. The program should calculate the sum of all the integers from 1 up to the number entered. For example, if the user enters 20, the loop will find the sum of 1, 2, 3, 4, ... 20. "
   ]
  },
  {
   "cell_type": "code",
   "execution_count": 22,
   "id": "f6f1b984-e465-4bc3-8d40-00fdcf3e3d69",
   "metadata": {},
   "outputs": [
    {
     "name": "stdin",
     "output_type": "stream",
     "text": [
      "Enter a number 3\n"
     ]
    },
    {
     "name": "stdout",
     "output_type": "stream",
     "text": [
      "6\n"
     ]
    }
   ],
   "source": [
    "n = int(input(\"Enter a number\"))\n",
    "sum = 0\n",
    "for i in range (1,n+1):\n",
    "    sum += i\n",
    "print(sum)"
   ]
  },
  {
   "cell_type": "markdown",
   "id": "219e7e2d-50a1-4a53-9762-3865eefbc1e7",
   "metadata": {},
   "source": [
    "### 12. write a program that takes a positive integer N as input and calculates the sum of the reciprocals of all numbers from 1 up to N. The program should display the final sum.."
   ]
  },
  {
   "cell_type": "code",
   "execution_count": 29,
   "id": "268b003d-97ff-4484-bd7e-3f0fe962486c",
   "metadata": {},
   "outputs": [
    {
     "name": "stdin",
     "output_type": "stream",
     "text": [
      "Enter a number 5\n"
     ]
    },
    {
     "name": "stdout",
     "output_type": "stream",
     "text": [
      "2.28\n"
     ]
    }
   ],
   "source": [
    "n = int(input(\"Enter a number\"))\n",
    "sum = 0.0\n",
    "for i in range (1,n+1):\n",
    "    sum += 1/i\n",
    "print(round(sum,2))"
   ]
  },
  {
   "cell_type": "markdown",
   "id": "e01a4669-fe4d-4d83-9e1c-4dcaf92cca59",
   "metadata": {},
   "source": [
    "### 13. Write a program that prompts the user to enter a number and repeats this process times. The program should accumulate the numbers entered andd then displa the final running total \r"
   ]
  },
  {
   "cell_type": "code",
   "execution_count": 32,
   "id": "2d2239ed-de86-4ad9-80c1-cc8fa07a9e8c",
   "metadata": {},
   "outputs": [
    {
     "name": "stdin",
     "output_type": "stream",
     "text": [
      "Enter number 1 10\n",
      "Enter number 2 15\n",
      "Enter number 3 35\n",
      "Enter number 4 40\n",
      "Enter number 5 50\n"
     ]
    },
    {
     "name": "stdout",
     "output_type": "stream",
     "text": [
      "150\n"
     ]
    }
   ],
   "source": [
    "userinput = [int(input(f\"Enter number {i}\"))  for i in range(1,6)  ]\n",
    "total = 0\n",
    "for num in userinput:\n",
    "    total += num\n",
    "print(total)"
   ]
  },
  {
   "cell_type": "markdown",
   "id": "204a9b9c-582b-4f9a-bfb8-97733141bd1c",
   "metadata": {},
   "source": [
    "### 14. Write a program that prompts the user to enter a positive integer and calculates its \n",
    "factorial. The factorial of a positive integer 'n' is denoted as 'n!' and is calculated by \n",
    "multiplying all the integers from 1 to 'n' together. For example, the factorial of 5 \n",
    "(denoted as 5!) is calculated as 1 x 2 x 3 x 4 x 5. \n",
    "The program should display the factorial value if the input is a positive number, or \n",
    "display a message stating that the factorial does not exist for negative numbers. \n",
    "Additionally, for an input of zero, the program should output that the factorial of 0 is 1. "
   ]
  },
  {
   "cell_type": "code",
   "execution_count": 38,
   "id": "f6a350e9-1ccf-4e70-8b8e-d0dd74123fc2",
   "metadata": {},
   "outputs": [
    {
     "name": "stdin",
     "output_type": "stream",
     "text": [
      "Enter a number 5\n"
     ]
    },
    {
     "name": "stdout",
     "output_type": "stream",
     "text": [
      "5! = 120\n"
     ]
    }
   ],
   "source": [
    "n = int(input(\"Enter a number\"))\n",
    "if n == 0:\n",
    "    print(f\"0! = 1\")\n",
    "elif n < 0:\n",
    "    print(f\"Factorial does not exist for negative number\")\n",
    "else:\n",
    "    factorial =1\n",
    "    for i in range(n,0,-1):\n",
    "        factorial *= i\n",
    "    print(f\"{n}! = {factorial}\")"
   ]
  },
  {
   "cell_type": "markdown",
   "id": "b32d9a62-a1c9-4bd3-b81a-1fc81cb34c08",
   "metadata": {},
   "source": [
    "### 15. Write a Python program that prompts the user to enter a base number and an exponent, and then calculates the power of the base to the exponent. . The progra should not use the exponentiation operator (**) or the math.pow() function. The program should handle both positive and negative exponents.ts."
   ]
  },
  {
   "cell_type": "code",
   "execution_count": 46,
   "id": "3a3b8ea2-9144-4ad6-b67c-d60019a31e10",
   "metadata": {},
   "outputs": [
    {
     "name": "stdin",
     "output_type": "stream",
     "text": [
      "Enter a number -3\n",
      "Enter exponent 3\n"
     ]
    },
    {
     "name": "stdout",
     "output_type": "stream",
     "text": [
      "-27\n"
     ]
    }
   ],
   "source": [
    "n = int(input(\"Enter a number\"))\n",
    "exp = int(input(\"Enter exponent\"))\n",
    "result =1\n",
    "for i in range(1,exp+1):\n",
    "    result *= n\n",
    "print(result)"
   ]
  },
  {
   "cell_type": "code",
   "execution_count": null,
   "id": "b95a120e-8a13-4ae1-b765-76395afad7d1",
   "metadata": {},
   "outputs": [],
   "source": []
  },
  {
   "cell_type": "code",
   "execution_count": null,
   "id": "48fe2690-3040-4235-b5b3-2684ff7b3494",
   "metadata": {},
   "outputs": [],
   "source": []
  },
  {
   "cell_type": "code",
   "execution_count": null,
   "id": "8cd4500f-65cc-4f27-96d8-8cee924d6788",
   "metadata": {},
   "outputs": [],
   "source": []
  },
  {
   "cell_type": "code",
   "execution_count": null,
   "id": "28ef5765-a281-45fb-8772-9a65a212e96c",
   "metadata": {},
   "outputs": [],
   "source": []
  },
  {
   "cell_type": "code",
   "execution_count": null,
   "id": "018b1e65-6a6e-4915-8f91-c9902c05bdd7",
   "metadata": {},
   "outputs": [],
   "source": []
  },
  {
   "cell_type": "code",
   "execution_count": null,
   "id": "ff5c0064-50ab-449f-b901-f48cfeed24bc",
   "metadata": {},
   "outputs": [],
   "source": []
  },
  {
   "cell_type": "code",
   "execution_count": null,
   "id": "414ea1c2-41cb-4353-9ca7-15d3b37602f1",
   "metadata": {},
   "outputs": [],
   "source": []
  },
  {
   "cell_type": "code",
   "execution_count": null,
   "id": "bc994f62-5beb-4a29-b1c7-99dcccc1ee15",
   "metadata": {},
   "outputs": [],
   "source": []
  },
  {
   "cell_type": "code",
   "execution_count": null,
   "id": "e1efb5bd-9fc5-4c23-a610-222bc2eca544",
   "metadata": {},
   "outputs": [],
   "source": []
  },
  {
   "cell_type": "code",
   "execution_count": null,
   "id": "3a2419c8-a6f6-415a-aab4-7eb1acc83a2a",
   "metadata": {},
   "outputs": [],
   "source": []
  },
  {
   "cell_type": "code",
   "execution_count": null,
   "id": "a883dbf7-ce93-496b-bdd1-ec15f01db321",
   "metadata": {},
   "outputs": [],
   "source": []
  },
  {
   "cell_type": "code",
   "execution_count": null,
   "id": "779d74c6-ec0d-41b2-b485-01ac749ea662",
   "metadata": {},
   "outputs": [],
   "source": []
  },
  {
   "cell_type": "code",
   "execution_count": null,
   "id": "e7d2ace0-f3e0-483d-be6d-d6c930356135",
   "metadata": {},
   "outputs": [],
   "source": []
  },
  {
   "cell_type": "code",
   "execution_count": null,
   "id": "00b729ac-ebd9-475d-bb89-89c20f711dc9",
   "metadata": {},
   "outputs": [],
   "source": []
  },
  {
   "cell_type": "code",
   "execution_count": null,
   "id": "cd8c063b-eccc-4711-b9dd-a340e71dd942",
   "metadata": {},
   "outputs": [],
   "source": []
  },
  {
   "cell_type": "code",
   "execution_count": null,
   "id": "46728bde-8378-41dd-81a7-2f3393802c7f",
   "metadata": {},
   "outputs": [],
   "source": []
  },
  {
   "cell_type": "code",
   "execution_count": null,
   "id": "fe4631e6-836c-4b5b-bd47-03a408d2b3d3",
   "metadata": {},
   "outputs": [],
   "source": []
  },
  {
   "cell_type": "code",
   "execution_count": null,
   "id": "4c9ef891-477e-4bd4-875a-f9a5448ed731",
   "metadata": {},
   "outputs": [],
   "source": []
  },
  {
   "cell_type": "code",
   "execution_count": null,
   "id": "744b1024-950e-4831-b039-066fb00dd9b0",
   "metadata": {},
   "outputs": [],
   "source": []
  },
  {
   "cell_type": "code",
   "execution_count": null,
   "id": "a46d86eb-65b9-4c56-9c04-65588f256887",
   "metadata": {},
   "outputs": [],
   "source": []
  },
  {
   "cell_type": "code",
   "execution_count": null,
   "id": "5be9f74c-c4b5-4f4c-aae9-b611c882e0f3",
   "metadata": {},
   "outputs": [],
   "source": []
  },
  {
   "cell_type": "code",
   "execution_count": 3,
   "id": "7be07e86-0f71-4089-9f9e-ac71fac3f868",
   "metadata": {},
   "outputs": [],
   "source": [
    "names=[\"ali\",\"raza\",\"bilal\",\"ahmed\"]\n",
    "\n",
    "def display_message():\n",
    "    for name in names:\n",
    "        if name.lower().startswith(\"a\"):\n",
    "            print(f\"mere dost {name}\")"
   ]
  },
  {
   "cell_type": "code",
   "execution_count": 4,
   "id": "166ea00d-14f9-49ca-a165-a16bae54e936",
   "metadata": {},
   "outputs": [
    {
     "name": "stdout",
     "output_type": "stream",
     "text": [
      "mere dost ali\n",
      "mere dost ahmed\n"
     ]
    }
   ],
   "source": [
    "display_message()"
   ]
  }
 ],
 "metadata": {
  "kernelspec": {
   "display_name": "Python 3 (ipykernel)",
   "language": "python",
   "name": "python3"
  },
  "language_info": {
   "codemirror_mode": {
    "name": "ipython",
    "version": 3
   },
   "file_extension": ".py",
   "mimetype": "text/x-python",
   "name": "python",
   "nbconvert_exporter": "python",
   "pygments_lexer": "ipython3",
   "version": "3.11.7"
  }
 },
 "nbformat": 4,
 "nbformat_minor": 5
}
